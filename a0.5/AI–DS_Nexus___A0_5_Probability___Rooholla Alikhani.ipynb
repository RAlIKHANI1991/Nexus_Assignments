{
  "cells": [
    {
      "cell_type": "markdown",
      "metadata": {
        "id": "tacMQNsG2g5S"
      },
      "source": [
        "# 📓 Assignment 5 — Probability\n",
        "\n",
        "## 🎲 Counting & Probability with Cards in Python 🃏\n",
        "Learn factorials, combinations, and (conditional) probability — all in one simple card game simulation using only math and random modules."
      ]
    },
    {
      "cell_type": "markdown",
      "metadata": {
        "id": "_cA_dWDJ2vfr"
      },
      "source": [
        "## 🧮 PART 1: Factorial & Combinations\n",
        "\n"
      ]
    },
    {
      "cell_type": "code",
      "execution_count": 2,
      "metadata": {
        "id": "aIxoWeNt2ao0"
      },
      "outputs": [
        {
          "name": "stdout",
          "output_type": "stream",
          "text": [
            "6! = 720\n",
            "Combinations (6 choose 3): 20\n"
          ]
        }
      ],
      "source": [
        "# ---- FACTORIAL & COMBINATIONS ----\n",
        "\n",
        "import math\n",
        "print(\"6! =\", math.factorial(6))\n",
        "print(\"Combinations (6 choose 3):\", math.comb(6 , 3))\n"
      ]
    },
    {
      "cell_type": "markdown",
      "metadata": {
        "id": "pzy2xD3H3D3o"
      },
      "source": [
        "## 🃏 PART 2: Simulating a Deck of Cards\n",
        "\n"
      ]
    },
    {
      "cell_type": "code",
      "execution_count": 1,
      "metadata": {
        "id": "eUvZhzYB2x4L"
      },
      "outputs": [
        {
          "name": "stdout",
          "output_type": "stream",
          "text": [
            "['1 of Hearts', '2 of Hearts', '3 of Hearts', '4 of Hearts', '5 of Hearts', '6 of Hearts', '7 of Hearts', '8 of Hearts', '9 of Hearts', '10 of Hearts', '11 of Hearts', '12 of Hearts', '13 of Hearts', '1 of Spades', '2 of Spades', '3 of Spades', '4 of Spades', '5 of Spades', '6 of Spades', '7 of Spades', '8 of Spades', '9 of Spades', '10 of Spades', '11 of Spades', '12 of Spades', '13 of Spades', '1 of Diamonds', '2 of Diamonds', '3 of Diamonds', '4 of Diamonds', '5 of Diamonds', '6 of Diamonds', '7 of Diamonds', '8 of Diamonds', '9 of Diamonds', '10 of Diamonds', '11 of Diamonds', '12 of Diamonds', '13 of Diamonds', '1 of Clubs', '2 of Clubs', '3 of Clubs', '4 of Clubs', '5 of Clubs', '6 of Clubs', '7 of Clubs', '8 of Clubs', '9 of Clubs', '10 of Clubs', '11 of Clubs', '12 of Clubs', '13 of Clubs']\n",
            "\n",
            "Drawn cards: ['13 of Spades', '8 of Spades']\n"
          ]
        }
      ],
      "source": [
        "# ---- PROBABILITY IN A DECK ----\n",
        "\n",
        "import random\n",
        "\n",
        "deck = [f\"{rank} of {suit}\" for suit in ['Hearts', 'Spades', 'Diamonds', 'Clubs']\n",
        "        for rank in range (1, 14)]\n",
        "print(deck)\n",
        "\n",
        "# Draw 2 random cards\n",
        "draws = random.sample(deck, 2)\n",
        "print(\"\\nDrawn cards:\", draws)\n"
      ]
    },
    {
      "cell_type": "markdown",
      "metadata": {
        "id": "OidRYf9q3Mwj"
      },
      "source": [
        "## 📊 PART 3: Basic Probability"
      ]
    },
    {
      "cell_type": "code",
      "execution_count": 3,
      "metadata": {},
      "outputs": [],
      "source": [
        "import math"
      ]
    },
    {
      "cell_type": "code",
      "execution_count": 12,
      "metadata": {
        "id": "Ok5d99Ns3Oa7"
      },
      "outputs": [
        {
          "name": "stdout",
          "output_type": "stream",
          "text": [
            "Probability both cards are Hearts: 5.88 %\n"
          ]
        }
      ],
      "source": [
        "# PROBABILITY: What’s the chance that both cards are Hearts?\n",
        "\n",
        "hearts = [card for card in deck if \"Hearts\" in card]\n",
        "prob_both_hearts = (math.comb(13, 2) / math.comb(52, 2))*100\n",
        "print(f\"Probability both cards are Hearts: {prob_both_hearts:.2f} %\")\n"
      ]
    },
    {
      "cell_type": "markdown",
      "metadata": {
        "id": "NMIA7c313Yum"
      },
      "source": [
        "## 🔁 PART 4: Conditional Probability"
      ]
    },
    {
      "cell_type": "code",
      "execution_count": 14,
      "metadata": {
        "id": "IZeCH8pw3aZX"
      },
      "outputs": [
        {
          "name": "stdout",
          "output_type": "stream",
          "text": [
            "Conditional probability 2nd card is Heart given 1st is Heart: 94.12%\n"
          ]
        }
      ],
      "source": [
        "# ---- CONDITIONAL PROBABILITY ----\n",
        "# P(A and B) / P(B): Probability second card is Heart given first was Heart\n",
        "# A = both are hearts, B = first is heart\n",
        "\n",
        "p_a_and_b = math.comb(12, 1) / math.comb(51, 1) # after one heart is drawn\n",
        "p_b = 13 / 52\n",
        "p_a_given_b = (p_a_and_b / p_b)*100\n",
        "print(f\"Conditional probability 2nd card is Heart given 1st is Heart: {p_a_given_b:.2f}%\")\n"
      ]
    },
    {
      "cell_type": "code",
      "execution_count": null,
      "metadata": {},
      "outputs": [],
      "source": []
    }
  ],
  "metadata": {
    "colab": {
      "provenance": []
    },
    "kernelspec": {
      "display_name": "DsAi",
      "language": "python",
      "name": "python3"
    },
    "language_info": {
      "codemirror_mode": {
        "name": "ipython",
        "version": 3
      },
      "file_extension": ".py",
      "mimetype": "text/x-python",
      "name": "python",
      "nbconvert_exporter": "python",
      "pygments_lexer": "ipython3",
      "version": "3.12.11"
    }
  },
  "nbformat": 4,
  "nbformat_minor": 0
}
